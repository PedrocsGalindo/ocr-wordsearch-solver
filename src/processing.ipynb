{
 "cells": [
  {
   "cell_type": "code",
   "execution_count": null,
   "id": "939cb26a",
   "metadata": {},
   "outputs": [],
   "source": [
    "import cv2\n",
    "import pytesseract\n",
    "from pytesseract import Output\n",
    "import numpy as np\n",
    "from pathlib import Path\n",
    "from matplotlib import pyplot as plt\n",
    "from ocrutils.imageops import is_a_picture, prepare_image"
   ]
  },
  {
   "cell_type": "markdown",
   "id": "c6aa8967",
   "metadata": {},
   "source": [
    "Carregando imagem"
   ]
  },
  {
   "cell_type": "code",
   "execution_count": null,
   "id": "7cde8a92",
   "metadata": {},
   "outputs": [],
   "source": [
    "path_data = Path.cwd().joinpath('data','wordsearch.png')\n",
    "img = cv2.imread(str(path_data.resolve()))\n",
    "plt.imshow(img)"
   ]
  },
  {
   "cell_type": "markdown",
   "id": "77d97951",
   "metadata": {},
   "source": [
    "config tesseract"
   ]
  },
  {
   "cell_type": "code",
   "execution_count": null,
   "id": "e8ec170c",
   "metadata": {},
   "outputs": [],
   "source": [
    "tessdata_dir = Path.cwd().joinpath('tessdata')\n",
    "whitelist = \"abcdefghijklmnopqrstuvwxyzABCDEFGHIJKLMNOPQRSTUVWXYZ0123456789áàâãéêíóôõúüçÁÀÂÃÉÊÍÓÔÕÚÜÇ\"\n",
    "blacklist = \" \"\n",
    "config_shotScream = f'--psm 11 --tessdata-dir {tessdata_dir} -c tessedit_char_whitelist={whitelist} -c tessedit_char_blacklist={blacklist}'\n",
    "config_picture = f'--psm 11 --tessdata-dir {tessdata_dir} -c tessedit_char_whitelist={whitelist} -c tessedit_char_blacklist={blacklist}'\n"
   ]
  },
  {
   "cell_type": "markdown",
   "id": "1cd051af",
   "metadata": {},
   "source": [
    "Gray + threshold"
   ]
  },
  {
   "cell_type": "code",
   "execution_count": null,
   "id": "899109e7",
   "metadata": {},
   "outputs": [],
   "source": [
    "gray = cv2.cvtColor(img, cv2.COLOR_BGR2GRAY)\n",
    "_, img = cv2.threshold(gray, 100, 255, cv2.THRESH_BINARY)"
   ]
  },
  {
   "cell_type": "markdown",
   "id": "210fef87",
   "metadata": {},
   "source": [
    "Reconhecimento das regiões"
   ]
  },
  {
   "cell_type": "code",
   "execution_count": null,
   "id": "15c65404",
   "metadata": {},
   "outputs": [],
   "source": [
    "if (not is_a_picture(img)):\n",
    "    img_data = pytesseract.image_to_data(img, config=config_shotScream, lang ='por', output_type=Output.DICT)\n",
    "    color = ()\n",
    "else:\n",
    "    img = prepare_image(img)\n",
    "    img_data = pytesseract.image_to_data(img, config=config_picture, lang ='por', output_type=Output.DICT)"
   ]
  },
  {
   "cell_type": "code",
   "execution_count": null,
   "id": "2090ce25",
   "metadata": {},
   "outputs": [
    {
     "name": "stdout",
     "output_type": "stream",
     "text": [
      "ADICIONAL\n",
      "CARTO\n",
      "ROUBARAM\n",
      "ALERTA\n",
      "CONTAS\n",
      "GARANTIA\n",
      "NEGOCIAR\n",
      "SEGURA\n",
      "CRDITO\n",
      "GOLPE\n",
      "NUBANK\n",
      "SEGURO\n",
      "APOSENTADOS\n",
      "DEFESAS\n",
      "GRAVAES\n",
      "NUTAG\n",
      "ATENDIMENTO\n",
      "DIRETO\n",
      "JUNTAS\n",
      "PARCELA\n",
      "TESOURO\n",
      "BLOQUEAR\n",
      "DBITO\n",
      "PARENTAL\n",
      "VALOR\n",
      "BLOQUEIOS\n",
      "ESCURO\n",
      "LIGAES\n",
      "PORTABILIDADE\n",
      "VIDAS\n",
      "CANAL\n",
      "FALSAS\n",
      "LIMITES\n",
      "PROTEO\n",
      "VIRTUAL\n"
     ]
    }
   ],
   "source": [
    "# Retorna uma lista com os indices das possiveis palavras detectadas no dicionario\n",
    "def detect_words(words: list, data : dict) -> list:\n",
    "    chaves = list(data.keys())\n",
    "    size = len(data[chaves[0]])\n",
    "    for i in range(size):\n",
    "        if len(data['text'][i]) > 4:\n",
    "            words.append(i)\n",
    "    return words\n",
    "\n",
    "def detect_words_area(data : dict):\n",
    "    words = []\n",
    "    words = detect_words(words = words, data = data)\n",
    "\n",
    "def detect_letters_area():\n",
    "    print('carro')\n",
    "\n",
    "detect_words_area(img_data)"
   ]
  }
 ],
 "metadata": {
  "kernelspec": {
   "display_name": "wordsearch-env",
   "language": "python",
   "name": "python3"
  },
  "language_info": {
   "codemirror_mode": {
    "name": "ipython",
    "version": 3
   },
   "file_extension": ".py",
   "mimetype": "text/x-python",
   "name": "python",
   "nbconvert_exporter": "python",
   "pygments_lexer": "ipython3",
   "version": "3.10.16"
  }
 },
 "nbformat": 4,
 "nbformat_minor": 5
}
