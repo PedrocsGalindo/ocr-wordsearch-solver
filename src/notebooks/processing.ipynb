{
 "cells": [
  {
   "cell_type": "code",
   "execution_count": null,
   "id": "939cb26a",
   "metadata": {},
   "outputs": [],
   "source": [
    "import cv2\n",
    "import pytesseract\n",
    "import numpy as np\n",
    "from pathlib import Path\n",
    "from matplotlib import pyplot as plt\n",
    "from ocrutils.imageops import is_a_picture, prepare_image"
   ]
  },
  {
   "cell_type": "markdown",
   "id": "c6aa8967",
   "metadata": {},
   "source": [
    "Carregando imagem"
   ]
  },
  {
   "cell_type": "code",
   "execution_count": 3,
   "id": "7cde8a92",
   "metadata": {},
   "outputs": [],
   "source": [
    "path_data = Path.cwd().parent.joinpath('data')\n",
    "filepath = next(path_data.glob('*'), None)\n",
    "img = cv2.imread(str(filepath.resolve()))"
   ]
  },
  {
   "cell_type": "code",
   "execution_count": null,
   "id": "e8ec170c",
   "metadata": {},
   "outputs": [],
   "source": [
    "tessdata_dir = path_data.parent.joinpath(\"tessdata\")\n",
    "config = f'--tessdata-dir \"{tessdata_dir}\"'"
   ]
  },
  {
   "cell_type": "code",
   "execution_count": null,
   "id": "15c65404",
   "metadata": {},
   "outputs": [],
   "source": [
    "if (is_a_picture(img)):\n",
    "    img = prepare_image(img)\n",
    "    text = pytesseract.image_to_string(img, lang ='por', config = config, output_type = Output.tipo)\n",
    "\n",
    "else:\n",
    "    text = pytesseract.image_to_string(img, lang ='por', config = config, output_type = Output.tipo)"
   ]
  }
 ],
 "metadata": {
  "kernelspec": {
   "display_name": "wordsearch-env",
   "language": "python",
   "name": "python3"
  },
  "language_info": {
   "codemirror_mode": {
    "name": "ipython",
    "version": 3
   },
   "file_extension": ".py",
   "mimetype": "text/x-python",
   "name": "python",
   "nbconvert_exporter": "python",
   "pygments_lexer": "ipython3",
   "version": "3.10.16"
  }
 },
 "nbformat": 4,
 "nbformat_minor": 5
}
